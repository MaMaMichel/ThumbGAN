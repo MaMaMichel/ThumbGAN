{
 "cells": [
  {
   "cell_type": "markdown",
   "metadata": {},
   "source": [
    "## Removing Duplicates"
   ]
  },
  {
   "cell_type": "code",
   "execution_count": 11,
   "metadata": {},
   "outputs": [],
   "source": [
    "import pandas as pd\n",
    "import os\n",
    "import urllib.request\n",
    "import time\n",
    "from urllib.error import HTTPError\n",
    "import numpy as np"
   ]
  },
  {
   "cell_type": "code",
   "execution_count": 7,
   "metadata": {},
   "outputs": [
    {
     "name": "stdout",
     "output_type": "stream",
     "text": [
      "518331\n",
      "474537\n"
     ]
    }
   ],
   "source": [
    "#Concatenate all small files into one big data frame and remove duplicates\n",
    "\n",
    "path = './ScrapedData/'\n",
    "\n",
    "dataFiles = os.listdir(path)\n",
    "\n",
    "bigFrame = pd.read_csv(path + dataFiles[0])\n",
    "\n",
    "for dataFile in dataFiles[1:]:\n",
    "    \n",
    "    \n",
    "    file = pd.read_csv(path + dataFile, lineterminator='\\n')\n",
    "    \n",
    "    bigFrame = pd.concat([bigFrame,file])\n",
    "    \n",
    "print(len(bigFrame.index))\n",
    "    \n",
    "bigFrame = bigFrame.drop_duplicates(subset='ID')\n",
    "\n",
    "print(len(bigFrame.index))\n",
    "\n",
    "# save as bigFrame\n",
    "    \n",
    "bigFrame.to_csv('bigFrame.csv', index=False, sep=\",\")"
   ]
  },
  {
   "cell_type": "code",
   "execution_count": 14,
   "metadata": {},
   "outputs": [],
   "source": [
    "# create smaller subFrames to make getting pictures in batches easier\n",
    "\n",
    "counter = 1\n",
    "for subFrame in np.array_split(bigFrame, 40):\n",
    "    subFrame.to_csv('./DataFiles/subFrame' + str(counter) + '.csv', index=False, sep=\",\")\n",
    "    counter += 1"
   ]
  }
 ],
 "metadata": {
  "kernelspec": {
   "display_name": "Python 3",
   "language": "python",
   "name": "python3"
  },
  "language_info": {
   "codemirror_mode": {
    "name": "ipython",
    "version": 3
   },
   "file_extension": ".py",
   "mimetype": "text/x-python",
   "name": "python",
   "nbconvert_exporter": "python",
   "pygments_lexer": "ipython3",
   "version": "3.8.10"
  }
 },
 "nbformat": 4,
 "nbformat_minor": 4
}
