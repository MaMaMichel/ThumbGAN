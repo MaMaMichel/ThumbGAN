{
 "cells": [
  {
   "cell_type": "markdown",
   "metadata": {},
   "source": [
    "# Clean-up\n",
    "\n",
    "In this Notebook the Scraped data is cleaned up, this step is done after collecting the pictures.\n",
    "\n",
    "First the instances that did not include a valid thumbnail link are removed (missing.txt in each subset folder)\n",
    "\n",
    "Second the title text is cleaned and standardized to make it ready for vectorization."
   ]
  },
  {
   "cell_type": "code",
   "execution_count": 1,
   "metadata": {},
   "outputs": [],
   "source": [
    "import pandas as pd\n",
    "import os\n",
    "import urllib.request\n",
    "import time\n",
    "from urllib.error import HTTPError\n",
    "import fasttext\n",
    "import fasttext.util\n",
    "import emoji"
   ]
  },
  {
   "cell_type": "code",
   "execution_count": 3,
   "metadata": {},
   "outputs": [],
   "source": [
    "## remove instances with missing \n",
    "\n",
    "dataPath = './DataFiles/'\n",
    "imagePath = './Images/'\n",
    "cleanPath = './CleanedFiles/'\n",
    "\n",
    "fileNames = os.listdir(dataPath)\n",
    "\n",
    "for fileName in fileNames:\n",
    "    \n",
    "    dataFile = pd.read_csv(dataPath + fileName, lineterminator='\\n')\n",
    "    missingList = pd.read_csv(imagePath + fileName.replace('.csv','/') + 'missing.txt', lineterminator='\\n',header=None)[0]\n",
    "    noMissing = dataFile[~dataFile['ID'].isin(missingList)]\n",
    "    noMissing.to_csv(cleanPath + fileName, index=False, sep=\",\")\n"
   ]
  },
  {
   "cell_type": "code",
   "execution_count": 4,
   "metadata": {},
   "outputs": [],
   "source": [
    "# Remove Private and Missing Videos\n",
    "\n",
    "fileNames = os.listdir(cleanPath)\n",
    "\n",
    "titleBlacklist = ['Private video', 'Deleted video']\n",
    "\n",
    "for fileName in fileNames:\n",
    "         \n",
    "    \n",
    "    dataFile = pd.read_csv(cleanPath + fileName, lineterminator='\\n')\n",
    "    noMissing = dataFile[~dataFile['TITLE'].isin(titleBlacklist)]\n",
    "    noMissing.to_csv(cleanPath + fileName, index=False, sep=\",\")"
   ]
  },
  {
   "cell_type": "code",
   "execution_count": 7,
   "metadata": {},
   "outputs": [],
   "source": [
    "# Clean up strings to alphanumeric characters only\n",
    "\n",
    "fileNames = os.listdir(cleanPath)\n",
    "\n",
    "for fileName in fileNames:\n",
    "    # read one file\n",
    "    dataFile = pd.read_csv(cleanPath + fileName, lineterminator='\\n')\n",
    "    \n",
    "    # replace emojis with their text equivalent\n",
    "    \n",
    "    dataFile['TITLE'] = dataFile['TITLE'].apply(emoji.demojize, delimiters=(\" \", \" \"))\n",
    "    \n",
    "    #all strings to lowercase\n",
    "    dataFile['TITLE'] = dataFile['TITLE'].str.lower()\n",
    "    \n",
    "    #remove everything except a-z 0-9 and ' '.\n",
    "    dataFile['TITLE'] = dataFile['TITLE'].replace('[^a-zA-Z0-9 ]', '', regex=True)\n",
    "    \n",
    "    #remove reduce consecutive spaces to a single space\n",
    "    dataFile['TITLE'] = dataFile['TITLE'].replace(' +', ' ', regex=True)\n",
    "    \n",
    "    #remove leading space\n",
    "    dataFile['TITLE'] = dataFile['TITLE'].replace('^ ', '', regex=True)\n",
    "    \n",
    "    #remove leading space\n",
    "    dataFile['TITLE'] = dataFile['TITLE'].replace(' $', '', regex=True)\n",
    "    \n",
    "    #remove all rows with no title\n",
    "    dataFile = dataFile[dataFile['TITLE'] != '']\n",
    "    \n",
    "    #save the data frame\n",
    "    dataFile.to_csv(cleanPath + fileName, index=False, sep=\",\")"
   ]
  },
  {
   "cell_type": "code",
   "execution_count": 8,
   "metadata": {},
   "outputs": [
    {
     "name": "stdout",
     "output_type": "stream",
     "text": [
      "22\n",
      "21\n",
      "20\n",
      "22\n",
      "22\n",
      "21\n",
      "25\n",
      "25\n",
      "21\n",
      "23\n",
      "22\n",
      "20\n",
      "26\n",
      "22\n",
      "21\n",
      "20\n",
      "21\n",
      "20\n",
      "22\n",
      "22\n",
      "23\n",
      "21\n",
      "21\n",
      "22\n",
      "20\n",
      "23\n",
      "24\n",
      "22\n",
      "24\n",
      "20\n",
      "20\n",
      "23\n",
      "20\n",
      "22\n",
      "21\n",
      "23\n",
      "23\n",
      "21\n",
      "20\n",
      "21\n"
     ]
    }
   ],
   "source": [
    "# By checking the maximum number of white spaces in title in each \n",
    "# data set we can count how many words the the largest title includes\n",
    "\n",
    "fileNames = os.listdir(cleanPath)\n",
    "count = 1\n",
    "\n",
    "for fileName in fileNames:\n",
    "    dataFile = pd.read_csv(cleanPath + fileName, lineterminator='\\n')\n",
    "\n",
    "    print(dataFile['TITLE'].str.count(' ').max())\n",
    "    \n",
    "# the maximum number of whitespaces is 26 so the title with the most amount of words has 27 words"
   ]
  },
  {
   "cell_type": "markdown",
   "metadata": {},
   "source": [
    "## Vectorisation\n",
    "\n",
    "The python library fasttext is used in combination with a pre trained model available from their website to translate the title strings in the dataset to word vector representations.\n",
    "\n",
    "To make the process of translation quicker, a vocablulatry set of all words in the data set is created, these are then translated to vector representations. Vocablulary and translation form a lookup table which is then used to add a word vector column to the data set."
   ]
  },
  {
   "cell_type": "markdown",
   "metadata": {},
   "source": [
    "### Vocabulary"
   ]
  },
  {
   "cell_type": "code",
   "execution_count": 9,
   "metadata": {},
   "outputs": [],
   "source": [
    "## Compiling the vocabulary\n",
    "\n",
    "path = './CleanedFiles/'\n",
    "\n",
    "dataFiles = os.listdir(path)\n",
    "\n",
    "completeFrame = pd.read_csv(path + dataFiles[0])\n",
    "\n",
    "for dataFile in dataFiles[1:]:\n",
    "    \n",
    "    \n",
    "    file = pd.read_csv(path + dataFile, lineterminator='\\n')\n",
    "    \n",
    "    completeFrame = pd.concat([completeFrame,file])\n",
    "    \n"
   ]
  },
  {
   "cell_type": "code",
   "execution_count": 13,
   "metadata": {},
   "outputs": [
    {
     "data": {
      "text/html": [
       "<div>\n",
       "<style scoped>\n",
       "    .dataframe tbody tr th:only-of-type {\n",
       "        vertical-align: middle;\n",
       "    }\n",
       "\n",
       "    .dataframe tbody tr th {\n",
       "        vertical-align: top;\n",
       "    }\n",
       "\n",
       "    .dataframe thead th {\n",
       "        text-align: right;\n",
       "    }\n",
       "</style>\n",
       "<table border=\"1\" class=\"dataframe\">\n",
       "  <thead>\n",
       "    <tr style=\"text-align: right;\">\n",
       "      <th></th>\n",
       "      <th>ID</th>\n",
       "      <th>TITLE</th>\n",
       "      <th>THUMBNAIL1</th>\n",
       "      <th>THUMBNAIL2</th>\n",
       "      <th>THUMBNAIL3</th>\n",
       "    </tr>\n",
       "  </thead>\n",
       "  <tbody>\n",
       "    <tr>\n",
       "      <th>0</th>\n",
       "      <td>6yvn5ho-L7g</td>\n",
       "      <td>asmr sex sounds male and female moans with con...</td>\n",
       "      <td>https://i.ytimg.com/vi/6yvn5ho-L7g/default.jpg</td>\n",
       "      <td>https://i.ytimg.com/vi/6yvn5ho-L7g/mqdefault.jpg</td>\n",
       "      <td>https://i.ytimg.com/vi/6yvn5ho-L7g/hqdefault.jpg</td>\n",
       "    </tr>\n",
       "    <tr>\n",
       "      <th>1</th>\n",
       "      <td>TnAAhh61ykg</td>\n",
       "      <td>moaning mlg sound download</td>\n",
       "      <td>https://i.ytimg.com/vi/TnAAhh61ykg/default.jpg</td>\n",
       "      <td>https://i.ytimg.com/vi/TnAAhh61ykg/mqdefault.jpg</td>\n",
       "      <td>https://i.ytimg.com/vi/TnAAhh61ykg/hqdefault.jpg</td>\n",
       "    </tr>\n",
       "    <tr>\n",
       "      <th>2</th>\n",
       "      <td>6D2CewA5SlA</td>\n",
       "      <td>asmr milf handjob orgasm sexy moaning sounds</td>\n",
       "      <td>https://i.ytimg.com/vi/6D2CewA5SlA/default.jpg</td>\n",
       "      <td>https://i.ytimg.com/vi/6D2CewA5SlA/mqdefault.jpg</td>\n",
       "      <td>https://i.ytimg.com/vi/6D2CewA5SlA/hqdefault.jpg</td>\n",
       "    </tr>\n",
       "    <tr>\n",
       "      <th>3</th>\n",
       "      <td>4XKDid4uYoY</td>\n",
       "      <td>1 hour moaning</td>\n",
       "      <td>https://i.ytimg.com/vi/4XKDid4uYoY/default.jpg</td>\n",
       "      <td>https://i.ytimg.com/vi/4XKDid4uYoY/mqdefault.jpg</td>\n",
       "      <td>https://i.ytimg.com/vi/4XKDid4uYoY/hqdefault.jpg</td>\n",
       "    </tr>\n",
       "    <tr>\n",
       "      <th>4</th>\n",
       "      <td>u04MVJwJjqQ</td>\n",
       "      <td>male moaning sounds</td>\n",
       "      <td>https://i.ytimg.com/vi/u04MVJwJjqQ/default.jpg</td>\n",
       "      <td>https://i.ytimg.com/vi/u04MVJwJjqQ/mqdefault.jpg</td>\n",
       "      <td>https://i.ytimg.com/vi/u04MVJwJjqQ/hqdefault.jpg</td>\n",
       "    </tr>\n",
       "    <tr>\n",
       "      <th>...</th>\n",
       "      <td>...</td>\n",
       "      <td>...</td>\n",
       "      <td>...</td>\n",
       "      <td>...</td>\n",
       "      <td>...</td>\n",
       "    </tr>\n",
       "    <tr>\n",
       "      <th>11437</th>\n",
       "      <td>_wdWEmKHrIw</td>\n",
       "      <td>asmr mom orgasm sexy moaning sounds asmr videos</td>\n",
       "      <td>https://i.ytimg.com/vi/_wdWEmKHrIw/default.jpg</td>\n",
       "      <td>https://i.ytimg.com/vi/_wdWEmKHrIw/mqdefault.jpg</td>\n",
       "      <td>https://i.ytimg.com/vi/_wdWEmKHrIw/hqdefault.jpg</td>\n",
       "    </tr>\n",
       "    <tr>\n",
       "      <th>11438</th>\n",
       "      <td>cmZmA4vNM5I</td>\n",
       "      <td>pillow humping smilingfacewithhearteyes asmr o...</td>\n",
       "      <td>https://i.ytimg.com/vi/cmZmA4vNM5I/default.jpg</td>\n",
       "      <td>https://i.ytimg.com/vi/cmZmA4vNM5I/mqdefault.jpg</td>\n",
       "      <td>https://i.ytimg.com/vi/cmZmA4vNM5I/hqdefault.jpg</td>\n",
       "    </tr>\n",
       "    <tr>\n",
       "      <th>11439</th>\n",
       "      <td>ZT5uHSskDIA</td>\n",
       "      <td>girl orgasm asmr sexy moaning sounds fingering</td>\n",
       "      <td>https://i.ytimg.com/vi/ZT5uHSskDIA/default.jpg</td>\n",
       "      <td>https://i.ytimg.com/vi/ZT5uHSskDIA/mqdefault.jpg</td>\n",
       "      <td>https://i.ytimg.com/vi/ZT5uHSskDIA/hqdefault.jpg</td>\n",
       "    </tr>\n",
       "    <tr>\n",
       "      <th>11440</th>\n",
       "      <td>-rVom-_x5Vo</td>\n",
       "      <td>4 minutes of real female moaning asmr intense ...</td>\n",
       "      <td>https://i.ytimg.com/vi/-rVom-_x5Vo/default.jpg</td>\n",
       "      <td>https://i.ytimg.com/vi/-rVom-_x5Vo/mqdefault.jpg</td>\n",
       "      <td>https://i.ytimg.com/vi/-rVom-_x5Vo/hqdefault.jpg</td>\n",
       "    </tr>\n",
       "    <tr>\n",
       "      <th>11441</th>\n",
       "      <td>JpsoLODM7XY</td>\n",
       "      <td>asmr sexy moaning sounds sexy asmr videos</td>\n",
       "      <td>https://i.ytimg.com/vi/JpsoLODM7XY/default.jpg</td>\n",
       "      <td>https://i.ytimg.com/vi/JpsoLODM7XY/mqdefault.jpg</td>\n",
       "      <td>https://i.ytimg.com/vi/JpsoLODM7XY/hqdefault.jpg</td>\n",
       "    </tr>\n",
       "  </tbody>\n",
       "</table>\n",
       "<p>448789 rows × 5 columns</p>\n",
       "</div>"
      ],
      "text/plain": [
       "                ID                                              TITLE  \\\n",
       "0      6yvn5ho-L7g  asmr sex sounds male and female moans with con...   \n",
       "1      TnAAhh61ykg                         moaning mlg sound download   \n",
       "2      6D2CewA5SlA       asmr milf handjob orgasm sexy moaning sounds   \n",
       "3      4XKDid4uYoY                                     1 hour moaning   \n",
       "4      u04MVJwJjqQ                                male moaning sounds   \n",
       "...            ...                                                ...   \n",
       "11437  _wdWEmKHrIw    asmr mom orgasm sexy moaning sounds asmr videos   \n",
       "11438  cmZmA4vNM5I  pillow humping smilingfacewithhearteyes asmr o...   \n",
       "11439  ZT5uHSskDIA     girl orgasm asmr sexy moaning sounds fingering   \n",
       "11440  -rVom-_x5Vo  4 minutes of real female moaning asmr intense ...   \n",
       "11441  JpsoLODM7XY          asmr sexy moaning sounds sexy asmr videos   \n",
       "\n",
       "                                           THUMBNAIL1  \\\n",
       "0      https://i.ytimg.com/vi/6yvn5ho-L7g/default.jpg   \n",
       "1      https://i.ytimg.com/vi/TnAAhh61ykg/default.jpg   \n",
       "2      https://i.ytimg.com/vi/6D2CewA5SlA/default.jpg   \n",
       "3      https://i.ytimg.com/vi/4XKDid4uYoY/default.jpg   \n",
       "4      https://i.ytimg.com/vi/u04MVJwJjqQ/default.jpg   \n",
       "...                                               ...   \n",
       "11437  https://i.ytimg.com/vi/_wdWEmKHrIw/default.jpg   \n",
       "11438  https://i.ytimg.com/vi/cmZmA4vNM5I/default.jpg   \n",
       "11439  https://i.ytimg.com/vi/ZT5uHSskDIA/default.jpg   \n",
       "11440  https://i.ytimg.com/vi/-rVom-_x5Vo/default.jpg   \n",
       "11441  https://i.ytimg.com/vi/JpsoLODM7XY/default.jpg   \n",
       "\n",
       "                                             THUMBNAIL2  \\\n",
       "0      https://i.ytimg.com/vi/6yvn5ho-L7g/mqdefault.jpg   \n",
       "1      https://i.ytimg.com/vi/TnAAhh61ykg/mqdefault.jpg   \n",
       "2      https://i.ytimg.com/vi/6D2CewA5SlA/mqdefault.jpg   \n",
       "3      https://i.ytimg.com/vi/4XKDid4uYoY/mqdefault.jpg   \n",
       "4      https://i.ytimg.com/vi/u04MVJwJjqQ/mqdefault.jpg   \n",
       "...                                                 ...   \n",
       "11437  https://i.ytimg.com/vi/_wdWEmKHrIw/mqdefault.jpg   \n",
       "11438  https://i.ytimg.com/vi/cmZmA4vNM5I/mqdefault.jpg   \n",
       "11439  https://i.ytimg.com/vi/ZT5uHSskDIA/mqdefault.jpg   \n",
       "11440  https://i.ytimg.com/vi/-rVom-_x5Vo/mqdefault.jpg   \n",
       "11441  https://i.ytimg.com/vi/JpsoLODM7XY/mqdefault.jpg   \n",
       "\n",
       "                                             THUMBNAIL3  \n",
       "0      https://i.ytimg.com/vi/6yvn5ho-L7g/hqdefault.jpg  \n",
       "1      https://i.ytimg.com/vi/TnAAhh61ykg/hqdefault.jpg  \n",
       "2      https://i.ytimg.com/vi/6D2CewA5SlA/hqdefault.jpg  \n",
       "3      https://i.ytimg.com/vi/4XKDid4uYoY/hqdefault.jpg  \n",
       "4      https://i.ytimg.com/vi/u04MVJwJjqQ/hqdefault.jpg  \n",
       "...                                                 ...  \n",
       "11437  https://i.ytimg.com/vi/_wdWEmKHrIw/hqdefault.jpg  \n",
       "11438  https://i.ytimg.com/vi/cmZmA4vNM5I/hqdefault.jpg  \n",
       "11439  https://i.ytimg.com/vi/ZT5uHSskDIA/hqdefault.jpg  \n",
       "11440  https://i.ytimg.com/vi/-rVom-_x5Vo/hqdefault.jpg  \n",
       "11441  https://i.ytimg.com/vi/JpsoLODM7XY/hqdefault.jpg  \n",
       "\n",
       "[448789 rows x 5 columns]"
      ]
     },
     "execution_count": 13,
     "metadata": {},
     "output_type": "execute_result"
    }
   ],
   "source": [
    "completeFrame"
   ]
  },
  {
   "cell_type": "code",
   "execution_count": 14,
   "metadata": {},
   "outputs": [],
   "source": [
    "vocabulary = set(completeFrame.TITLE.str.cat(sep=' ').split())\n"
   ]
  },
  {
   "cell_type": "code",
   "execution_count": 15,
   "metadata": {},
   "outputs": [
    {
     "data": {
      "text/plain": [
       "200409"
      ]
     },
     "execution_count": 15,
     "metadata": {},
     "output_type": "execute_result"
    }
   ],
   "source": [
    "len(vocabulary)"
   ]
  },
  {
   "cell_type": "markdown",
   "metadata": {},
   "source": [
    "### FastText"
   ]
  },
  {
   "cell_type": "code",
   "execution_count": 8,
   "metadata": {},
   "outputs": [
    {
     "data": {
      "text/plain": [
       "'cc.en.300.bin'"
      ]
     },
     "execution_count": 8,
     "metadata": {},
     "output_type": "execute_result"
    }
   ],
   "source": [
    "\n",
    "fasttext.util.download_model('en', if_exists='ignore')\n",
    "\n",
    "#ft = fasttext.load_model('cc.en.300.bin')"
   ]
  },
  {
   "cell_type": "code",
   "execution_count": null,
   "metadata": {},
   "outputs": [],
   "source": [
    "ft = fasttext.load_model('cc.en.300.bin')\n",
    "ft.get_dimension()\n",
    "fasttext.util.reduce_model(ft, 100)\n",
    "\n",
    "ft.get_dimension()\n",
    "ft.save_model('cc.en.100.bin')"
   ]
  },
  {
   "cell_type": "markdown",
   "metadata": {},
   "source": [
    "### Look-up Dict"
   ]
  },
  {
   "cell_type": "code",
   "execution_count": null,
   "metadata": {},
   "outputs": [],
   "source": []
  }
 ],
 "metadata": {
  "kernelspec": {
   "display_name": "Python 3",
   "language": "python",
   "name": "python3"
  },
  "language_info": {
   "codemirror_mode": {
    "name": "ipython",
    "version": 3
   },
   "file_extension": ".py",
   "mimetype": "text/x-python",
   "name": "python",
   "nbconvert_exporter": "python",
   "pygments_lexer": "ipython3",
   "version": "3.8.10"
  }
 },
 "nbformat": 4,
 "nbformat_minor": 4
}
